{
 "cells": [
  {
   "cell_type": "markdown",
   "metadata": {},
   "source": [
    "# Group-level analysis: GLM Level 2+\n",
    "\n",
    "!!! note\n",
    "\n",
    "  Quotes on this page are from Poldrack, Mumford and Nichols (2011) unless otherwise noted.\n",
    "\n",
    "Group-level analyses can be level 2 or level 3. If your design includes multiple runs for a single subject, then before your group-level analyses you should combine the estimates from each run for each subject. This is typically done through a fixed-effects model, which combines the level 1 estimates from each run of each subject by weighting them by the inverse of the within-run standard deviations (PMN, p. 104). In this case, level 2 would refer to your subject-level analyses that follows your run-level analyses. Then group-level analysis uses a mixed-effects model to combine subject level estimates."
   ]
  },
  {
   "cell_type": "markdown",
   "metadata": {},
   "source": [
    "## Mixed effects modeling\n",
    "\n",
    "See section 6.1.1. of PMN for a why we need mixed effects modeling.\n",
    "\n",
    "To estimate a mixed effects model one can use the individual within subject variance estimates from level one analyses and use a weighted linear regression to down-weight subjects with high wihtin subject variability. Alternatively, one can make the simplifying assumption that within subjects's variance is the same across all subjects. This would imply the same mixed effects variance (sum of wihtin and between subjects variance) across subjects so one can use ordinary least squares to estimate the join mixed effects variance."
   ]
  }
 ],
 "metadata": {
  "language_info": {
   "name": "python"
  }
 },
 "nbformat": 4,
 "nbformat_minor": 2
}

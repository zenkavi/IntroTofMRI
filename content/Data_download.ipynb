{
 "cells": [
  {
   "cell_type": "markdown",
   "metadata": {},
   "source": [
    "# Data download"
   ]
  },
  {
   "cell_type": "markdown",
   "metadata": {},
   "source": [
    "In a Terminal window (or however you prefer interacting with your shell) install required software to download data through `datalad`. Below we install `git-annex` through Homebrew and `datalad` through pip"
   ]
  },
  {
   "cell_type": "markdown",
   "metadata": {},
   "source": [
    "```sh\n",
    "> brew install git-annex\n",
    "\n",
    "==> Caveats\n",
    "==> git-annex\n",
    "To start git-annex now and restart at login:\n",
    "  brew services start git-annex\n",
    "Or, if you don't want/need a background service you can just run:\n",
    "  /opt/homebrew/opt/git-annex/bin/git-annex assistant --autostart\n",
    "```"
   ]
  },
  {
   "cell_type": "markdown",
   "metadata": {},
   "source": [
    "``` sh\n",
    "> pip install datalad\n",
    "```"
   ]
  },
  {
   "cell_type": "markdown",
   "metadata": {},
   "source": [
    "Create a `data` directory and navigate into it. This will be where you will tell `datalad` to store the data"
   ]
  },
  {
   "cell_type": "markdown",
   "metadata": {},
   "source": [
    "```sh\n",
    "> mkdir data\n",
    "> cd data\n",
    "> datalad install https://gin.g-node.org/ljchang/Localizer\n",
    "\n",
    "install(ok): /Users/zenkavi/Documents/RangelLab/IntroTofMRI/data/Localizer (dataset)\n",
    "```"
   ]
  },
  {
   "cell_type": "markdown",
   "metadata": {},
   "source": [
    "Note this does not actually download any data but creates the dataset structure and records the metadata to know where to pull data from when you want to. You can confirm that nothing has been dowloaded as follows"
   ]
  },
  {
   "cell_type": "markdown",
   "metadata": {},
   "source": [
    "```sh\n",
    "> cd Localizer \n",
    "> datalad status --annex all\n",
    "\n",
    "1794 annex'd files (0.0 B/42.1 GB present/total size)\n",
    "nothing to save, working tree clean\n",
    "```"
   ]
  },
  {
   "cell_type": "markdown",
   "metadata": {},
   "source": [
    "## Datalad through Python"
   ]
  },
  {
   "cell_type": "markdown",
   "metadata": {},
   "source": [
    "You can also interact with `datalad` directly through Python. Make sure you have installed the packages listed in `requirements.txt`"
   ]
  },
  {
   "cell_type": "markdown",
   "metadata": {},
   "source": [
    "Interacting with `datalad` through Python the `datalad install` operation would look like below"
   ]
  },
  {
   "cell_type": "code",
   "execution_count": 2,
   "metadata": {},
   "outputs": [
    {
     "data": {
      "text/plain": [
       "Dataset('/Users/zenkavi/Documents/RangelLab/IntroTofMRI/data/Localizer')"
      ]
     },
     "execution_count": 2,
     "metadata": {},
     "output_type": "execute_result"
    }
   ],
   "source": [
    "import os\n",
    "import glob\n",
    "import datalad.api as dl\n",
    "import pandas as pd\n",
    "\n",
    "localizer_path = '/Users/zenkavi/Documents/RangelLab/IntroTofMRI/data/Localizer'\n",
    "\n",
    "dl.clone(source='https://gin.g-node.org/ljchang/Localizer', path=localizer_path)"
   ]
  },
  {
   "cell_type": "markdown",
   "metadata": {},
   "source": [
    "### Download data for the course"
   ]
  },
  {
   "cell_type": "markdown",
   "metadata": {},
   "source": [
    "Confirm that no data has been downloaded yet"
   ]
  },
  {
   "cell_type": "code",
   "execution_count": 3,
   "metadata": {},
   "outputs": [
    {
     "name": "stdout",
     "output_type": "stream",
     "text": [
      "1794 annex'd files (0.0 B/42.1 GB present/total size)\n",
      "nothing to save, working tree clean\n"
     ]
    }
   ],
   "source": [
    "ds = dl.Dataset(localizer_path)\n",
    "results = ds.status(annex='all')"
   ]
  },
  {
   "cell_type": "markdown",
   "metadata": {},
   "source": [
    "Data for the course is:\n",
    "\n",
    "- sub-S01’s raw data  \n",
    "- experimental metadata   \n",
    "- preprocessed data for the first 20 subjects including the fmriprep QC reports."
   ]
  },
  {
   "cell_type": "code",
   "execution_count": 4,
   "metadata": {},
   "outputs": [
    {
     "name": "stdout",
     "output_type": "stream",
     "text": [
      "\u001b[1;1mget\u001b[0m(\u001b[1;32mok\u001b[0m): sub-S01/.DS_Store (\u001b[1;35mfile\u001b[0m) [from origin...]\n",
      "\u001b[1;1mget\u001b[0m(\u001b[1;32mok\u001b[0m): sub-S01/anat/sub-S01_T1w.nii.gz (\u001b[1;35mfile\u001b[0m) [from origin...]\n",
      "\u001b[1;1mget\u001b[0m(\u001b[1;32mok\u001b[0m): sub-S01/func/sub-S01_task-localizer_bold.nii.gz (\u001b[1;35mfile\u001b[0m) [from origin...]\n",
      "\u001b[1;1mget\u001b[0m(\u001b[1;32mok\u001b[0m): sub-S01 (\u001b[1;35mdirectory\u001b[0m)\n",
      "action summary:\n",
      "  get (ok: 4)\n",
      "action summary:\n",
      "  get (notneeded: 3)\n"
     ]
    }
   ],
   "source": [
    "result = ds.get(os.path.join(localizer_path, 'sub-S01'))\n",
    "result = ds.get(glob.glob(os.path.join(localizer_path, '*.json')))\n",
    "result = ds.get(glob.glob(os.path.join(localizer_path, '*.tsv')))\n",
    "result = ds.get(glob.glob(os.path.join(localizer_path, 'phenotype')))"
   ]
  },
  {
   "cell_type": "code",
   "execution_count": 5,
   "metadata": {},
   "outputs": [
    {
     "name": "stdout",
     "output_type": "stream",
     "text": [
      "\u001b[1;1mget\u001b[0m(\u001b[1;32mok\u001b[0m): derivatives/fmriprep/sub-S01/.DS_Store (\u001b[1;35mfile\u001b[0m) [from origin...]\n",
      "\u001b[1;1mget\u001b[0m(\u001b[1;32mok\u001b[0m): derivatives/fmriprep/sub-S01/anat/sub-S01_desc-brain_mask.nii.gz (\u001b[1;35mfile\u001b[0m) [from origin...]\n",
      "\u001b[1;1mget\u001b[0m(\u001b[1;32mok\u001b[0m): derivatives/fmriprep/sub-S01/anat/sub-S01_desc-preproc_T1w.nii.gz (\u001b[1;35mfile\u001b[0m) [from origin...]\n",
      "\u001b[1;1mget\u001b[0m(\u001b[1;32mok\u001b[0m): derivatives/fmriprep/sub-S01/anat/sub-S01_dseg.nii.gz (\u001b[1;35mfile\u001b[0m) [from origin...]\n",
      "\u001b[1;1mget\u001b[0m(\u001b[1;32mok\u001b[0m): derivatives/fmriprep/sub-S01/anat/sub-S01_from-MNI152NLin2009cAsym_to-T1w_mode-image_xfm.h5 (\u001b[1;35mfile\u001b[0m) [from origin...]\n",
      "\u001b[1;1mget\u001b[0m(\u001b[1;32mok\u001b[0m): derivatives/fmriprep/sub-S01/anat/sub-S01_from-T1w_to-MNI152NLin2009cAsym_mode-image_xfm.h5 (\u001b[1;35mfile\u001b[0m) [from origin...]\n",
      "\u001b[1;1mget\u001b[0m(\u001b[1;32mok\u001b[0m): derivatives/fmriprep/sub-S01/anat/sub-S01_label-CSF_probseg.nii.gz (\u001b[1;35mfile\u001b[0m) [from origin...]\n",
      "\u001b[1;1mget\u001b[0m(\u001b[1;32mok\u001b[0m): derivatives/fmriprep/sub-S01/anat/sub-S01_label-GM_probseg.nii.gz (\u001b[1;35mfile\u001b[0m) [from origin...]\n",
      "\u001b[1;1mget\u001b[0m(\u001b[1;32mok\u001b[0m): derivatives/fmriprep/sub-S01/anat/sub-S01_label-WM_probseg.nii.gz (\u001b[1;35mfile\u001b[0m) [from origin...]\n",
      "\u001b[1;1mget\u001b[0m(\u001b[1;32mok\u001b[0m): derivatives/fmriprep/sub-S01/anat/sub-S01_space-MNI152NLin2009cAsym_desc-brain_mask.nii.gz (\u001b[1;35mfile\u001b[0m) [from origin...]\n",
      "\u001b[1;1mget\u001b[0m(\u001b[1;32mok\u001b[0m): derivatives/fmriprep/sub-S01/anat/sub-S01_space-MNI152NLin2009cAsym_desc-preproc_T1w.nii.gz (\u001b[1;35mfile\u001b[0m) [from origin...]\n",
      "\u001b[1;1mget\u001b[0m(\u001b[1;32mok\u001b[0m): derivatives/fmriprep/sub-S01/anat/sub-S01_space-MNI152NLin2009cAsym_dseg.nii.gz (\u001b[1;35mfile\u001b[0m) [from origin...]\n",
      "\u001b[1;1mget\u001b[0m(\u001b[1;32mok\u001b[0m): derivatives/fmriprep/sub-S01/anat/sub-S01_space-MNI152NLin2009cAsym_label-CSF_probseg.nii.gz (\u001b[1;35mfile\u001b[0m) [from origin...]\n",
      "\u001b[1;1mget\u001b[0m(\u001b[1;32mok\u001b[0m): derivatives/fmriprep/sub-S01/anat/sub-S01_space-MNI152NLin2009cAsym_label-GM_probseg.nii.gz (\u001b[1;35mfile\u001b[0m) [from origin...]\n",
      "\u001b[1;1mget\u001b[0m(\u001b[1;32mok\u001b[0m): derivatives/fmriprep/sub-S01/anat/sub-S01_space-MNI152NLin2009cAsym_label-WM_probseg.nii.gz (\u001b[1;35mfile\u001b[0m) [from origin...]\n",
      "\u001b[1;1mget\u001b[0m(\u001b[1;32mok\u001b[0m): derivatives/fmriprep/sub-S01/func/sub-S01_task-localizer_space-MNI152NLin2009cAsym_boldref.nii.gz (\u001b[1;35mfile\u001b[0m) [from origin...]\n",
      "\u001b[1;1mget\u001b[0m(\u001b[1;32mok\u001b[0m): derivatives/fmriprep/sub-S01/func/sub-S01_task-localizer_space-MNI152NLin2009cAsym_desc-brain_mask.nii.gz (\u001b[1;35mfile\u001b[0m) [from origin...]\n",
      "\u001b[1;1mget\u001b[0m(\u001b[1;32mok\u001b[0m): derivatives/fmriprep/sub-S01/func/sub-S01_task-localizer_space-MNI152NLin2009cAsym_desc-preproc_bold.nii.gz (\u001b[1;35mfile\u001b[0m) [from origin...]\n",
      "\u001b[1;1mget\u001b[0m(\u001b[1;32mok\u001b[0m): derivatives/fmriprep/sub-S01 (\u001b[1;35mdirectory\u001b[0m)\n",
      "action summary:\n",
      "  get (ok: 19)\n"
     ]
    }
   ],
   "source": [
    "file_list = glob.glob(os.path.join(localizer_path, '*', 'fmriprep', 'sub*'))\n",
    "file_list.sort()\n",
    "for f in file_list[:20]:\n",
    "    result = ds.get(f)"
   ]
  }
 ],
 "metadata": {
  "kernelspec": {
   "display_name": "py-fmribook",
   "language": "python",
   "name": "python3"
  },
  "language_info": {
   "codemirror_mode": {
    "name": "ipython",
    "version": 3
   },
   "file_extension": ".py",
   "mimetype": "text/x-python",
   "name": "python",
   "nbconvert_exporter": "python",
   "pygments_lexer": "ipython3",
   "version": "3.10.4"
  }
 },
 "nbformat": 4,
 "nbformat_minor": 2
}

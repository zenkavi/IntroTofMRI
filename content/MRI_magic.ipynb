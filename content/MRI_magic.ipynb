{
 "cells": [
  {
   "cell_type": "markdown",
   "metadata": {},
   "source": [
    "![MR basics](./images/Mechanism-of-magnetic-resonance-imaging-A-Hydrogen-atoms-are-dispersed-within-the.png \"MR Basics\")\n",
    "\n",
    "Image from \n",
    "```\n",
    "Fordham, A. J., Hacherl, C. C., Patel, N., Jones, K., Myers, B., Abraham, M., & Gendreau, J. (2021). Differentiating glioblastomas from solitary brain metastases: an update on the current literature of advanced imaging modalities. Cancers, 13(12), 2960.\n",
    "```\n",
    "\n",
    "This is a useful image for initial understanding/undergraduate teaching *but* there is a lot more subtlety to it stemming from differences between classical and quantum explanation of magnetic resonance. This is beyond of the scope of this tutorial but if interested here is are some resources: \n",
    "- https://mriquestions.com/quantum-reality.html\n",
    "- https://www.drcmr.dk/MR\n",
    "\n",
    "For our purposes, though the diagram above emphasizes individual nuclei [\"it is preferable not to think about individual nuclei (with their \"freaky\" quantum behavior).  Instead you should think about the sum of their magnetic properties averaged together to create a net magnetization (M).\"](https://mriquestions.com/net-magnetization-m.html) "
   ]
  },
  {
   "cell_type": "markdown",
   "metadata": {},
   "source": [
    "![Pulse sequence](./images/Pulse_seq.png \"Pulse sequence\")\n",
    "\n",
    "Image from [Structural MRI (Pre)processing and Neuroimaging Analysis](https://carpentries-incubator.github.io/SDC-BIDS-sMRI/01-Image_Modalities/index.html)"
   ]
  },
  {
   "cell_type": "markdown",
   "metadata": {},
   "source": []
  },
  {
   "cell_type": "markdown",
   "metadata": {},
   "source": [
    "How does the receiver coil work?\n",
    "\n",
    "\"The oscillating net magnetic flux from the excited spin system can be captured by the [receiver] coil in which an induced electric current is generated.  This current is then amplified, digitized, and filtered to extract frequency and phase information. \""
   ]
  },
  {
   "cell_type": "markdown",
   "metadata": {},
   "source": []
  }
 ],
 "metadata": {
  "language_info": {
   "name": "python"
  }
 },
 "nbformat": 4,
 "nbformat_minor": 2
}

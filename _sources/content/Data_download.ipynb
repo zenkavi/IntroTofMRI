{
 "cells": [
  {
   "cell_type": "markdown",
   "metadata": {},
   "source": [
    "# Data download\n",
    "\n",
    "## Install `datalad`"
   ]
  },
  {
   "cell_type": "markdown",
   "metadata": {},
   "source": [
    "In a Terminal window (or however you prefer interacting with your shell) install required software to download data through `datalad`. Below we install `git-annex` through Homebrew and `datalad` through pip"
   ]
  },
  {
   "cell_type": "markdown",
   "metadata": {},
   "source": [
    "```sh\n",
    "> brew install git-annex\n",
    "\n",
    "==> Caveats\n",
    "==> git-annex\n",
    "To start git-annex now and restart at login:\n",
    "  brew services start git-annex\n",
    "Or, if you don't want/need a background service you can just run:\n",
    "  /opt/homebrew/opt/git-annex/bin/git-annex assistant --autostart\n",
    "```"
   ]
  },
  {
   "cell_type": "markdown",
   "metadata": {},
   "source": [
    "``` sh\n",
    "> pip install datalad\n",
    "```"
   ]
  },
  {
   "cell_type": "markdown",
   "metadata": {},
   "source": [
    "Create a `data` directory and navigate into it. This will be where you will tell `datalad` to store the data"
   ]
  },
  {
   "cell_type": "markdown",
   "metadata": {},
   "source": [
    "```sh\n",
    "> mkdir data\n",
    "> cd data\n",
    "> datalad install https://gin.g-node.org/ljchang/Localizer\n",
    "\n",
    "install(ok): /Users/zenkavi/Documents/RangelLab/IntroTofMRI/data/Localizer (dataset)\n",
    "```"
   ]
  },
  {
   "cell_type": "markdown",
   "metadata": {},
   "source": [
    "Note this does not actually download any data but creates the dataset structure and records the metadata to know where to pull data from when you want to. You can confirm that nothing has been dowloaded as follows"
   ]
  },
  {
   "cell_type": "markdown",
   "metadata": {},
   "source": [
    "```sh\n",
    "> cd Localizer \n",
    "> datalad status --annex all\n",
    "\n",
    "1794 annex'd files (0.0 B/42.1 GB present/total size)\n",
    "nothing to save, working tree clean\n",
    "```"
   ]
  },
  {
   "cell_type": "markdown",
   "metadata": {},
   "source": [
    "## Datalad through Python"
   ]
  },
  {
   "cell_type": "markdown",
   "metadata": {},
   "source": [
    "You can also interact with `datalad` directly through Python. Make sure you have installed the packages listed in `requirements.txt`"
   ]
  },
  {
   "cell_type": "markdown",
   "metadata": {},
   "source": [
    "Interacting with `datalad` through Python the `datalad install` operation would look like below"
   ]
  },
  {
   "cell_type": "code",
   "execution_count": null,
   "metadata": {},
   "outputs": [],
   "source": [
    "import os\n",
    "import glob\n",
    "import datalad.api as dl\n",
    "import pandas as pd"
   ]
  },
  {
   "cell_type": "code",
   "execution_count": null,
   "metadata": {},
   "outputs": [],
   "source": [
    "localizer_path = '/Users/zenkavi/Documents/RangelLab/IntroTofMRI/data/Localizer'\n",
    "\n",
    "dl.clone(source='https://gin.g-node.org/ljchang/Localizer', path=localizer_path)"
   ]
  },
  {
   "cell_type": "markdown",
   "metadata": {},
   "source": [
    "### Download data for the course"
   ]
  },
  {
   "cell_type": "markdown",
   "metadata": {},
   "source": [
    "Confirm that no data has been downloaded yet"
   ]
  },
  {
   "cell_type": "code",
   "execution_count": null,
   "metadata": {},
   "outputs": [],
   "source": [
    "ds = dl.Dataset(localizer_path)\n",
    "results = ds.status(annex='all')"
   ]
  },
  {
   "cell_type": "markdown",
   "metadata": {},
   "source": [
    "Data for the course is:\n",
    "\n",
    "- sub-S01’s raw data  \n",
    "- experimental metadata   \n",
    "- preprocessed data for the first 20 subjects including the fmriprep QC reports."
   ]
  },
  {
   "cell_type": "code",
   "execution_count": null,
   "metadata": {},
   "outputs": [],
   "source": [
    "result = ds.get(os.path.join(localizer_path, 'sub-S01'))\n",
    "result = ds.get(glob.glob(os.path.join(localizer_path, '*.json')))\n",
    "result = ds.get(glob.glob(os.path.join(localizer_path, '*.tsv')))\n",
    "result = ds.get(glob.glob(os.path.join(localizer_path, 'phenotype')))"
   ]
  },
  {
   "cell_type": "code",
   "execution_count": null,
   "metadata": {},
   "outputs": [],
   "source": [
    "file_list = glob.glob(os.path.join(localizer_path, '*', 'fmriprep', 'sub*'))\n",
    "file_list.sort()\n",
    "for f in file_list[:20]:\n",
    "    result = ds.get(f)"
   ]
  }
 ],
 "metadata": {
  "kernelspec": {
   "display_name": "py-fmribook",
   "language": "python",
   "name": "python3"
  },
  "language_info": {
   "codemirror_mode": {
    "name": "ipython",
    "version": 3
   },
   "file_extension": ".py",
   "mimetype": "text/x-python",
   "name": "python",
   "nbconvert_exporter": "python",
   "pygments_lexer": "ipython3",
   "version": "3.10.4"
  }
 },
 "nbformat": 4,
 "nbformat_minor": 2
}

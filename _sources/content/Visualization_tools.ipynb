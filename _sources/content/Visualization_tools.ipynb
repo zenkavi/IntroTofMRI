{
 "cells": [
  {
   "cell_type": "markdown",
   "metadata": {},
   "source": [
    "# Data visualization"
   ]
  },
  {
   "cell_type": "markdown",
   "metadata": {},
   "source": [
    "There are different options to visualize images. \n",
    "- For quick click and view [Mango](https://mangoviewer.com/mango.html) is a nice option.  \n",
    "- For surface-based analyses Freesurfer's [Freeview](https://surfer.nmr.mgh.harvard.edu/fswiki/FsTutorial/OutputData_freeview) is very capable.  \n",
    "- For publication quality (programatically reproducible) images you'll likely use [`nilearn.plotting`](https://nilearn.github.io/stable/plotting/index.html) or [`fsleyes`](https://open.win.ox.ac.uk/pages/fsl/fsleyes/fsleyes/userdoc/install.html)."
   ]
  },
  {
   "cell_type": "markdown",
   "metadata": {},
   "source": [
    "## FSLEyes"
   ]
  },
  {
   "cell_type": "markdown",
   "metadata": {},
   "source": [
    "### Installation"
   ]
  },
  {
   "cell_type": "markdown",
   "metadata": {},
   "source": [
    "Note this installation recommended *only* if you're comfortable creating and managing python virtual environments. If not, visit [FSLEyes documentation](https://open.win.ox.ac.uk/pages/fsl/fsleyes/fsleyes/userdoc/install.html) on more detailed instructions\n",
    "\n",
    "```sh\n",
    "> pip install fsleyes\n",
    "```"
   ]
  },
  {
   "cell_type": "markdown",
   "metadata": {},
   "source": [
    "### Opening FSLEyes\n",
    "\n",
    "After installation open a Terminal window and type \n",
    "\n",
    "```\n",
    "> fsleyes &\n",
    "```\n",
    "\n",
    "The `&` will run `fsleyes` in the background so you can still access the CLI."
   ]
  },
  {
   "cell_type": "markdown",
   "metadata": {},
   "source": [
    "## Nilearn.plotting"
   ]
  },
  {
   "cell_type": "markdown",
   "metadata": {},
   "source": []
  }
 ],
 "metadata": {
  "language_info": {
   "name": "python"
  }
 },
 "nbformat": 4,
 "nbformat_minor": 2
}
